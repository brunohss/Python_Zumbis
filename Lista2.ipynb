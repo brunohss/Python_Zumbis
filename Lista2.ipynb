{
  "nbformat": 4,
  "nbformat_minor": 0,
  "metadata": {
    "colab": {
      "provenance": [],
      "authorship_tag": "ABX9TyMRO0OjG95M+yuJXHe2Qs10",
      "include_colab_link": true
    },
    "kernelspec": {
      "name": "python3",
      "display_name": "Python 3"
    },
    "language_info": {
      "name": "python"
    }
  },
  "cells": [
    {
      "cell_type": "markdown",
      "metadata": {
        "id": "view-in-github",
        "colab_type": "text"
      },
      "source": [
        "<a href=\"https://colab.research.google.com/github/brunohss/Python_Zumbis/blob/main/Lista2.ipynb\" target=\"_parent\"><img src=\"https://colab.research.google.com/assets/colab-badge.svg\" alt=\"Open In Colab\"/></a>"
      ]
    },
    {
      "cell_type": "markdown",
      "source": [
        "\n",
        "Lista de Exercícios II\n",
        "1. Faça um Programa que peça os três lados de um triângulo. O programa deverá informar se os valores podem ser um triângulo. Indique, caso os lados formem um triângulo, se o mesmo é: equilátero, isósceles ou escaleno."
      ],
      "metadata": {
        "id": "cBOiY0lg_QNN"
      }
    },
    {
      "cell_type": "code",
      "source": [
        "t1=int(input('digite o valor do primeio lado do triangulo  : '))\n",
        "t2=int(input('digite o valor do segundo lado do triangulo  : '))\n",
        "t3=int(input('digite o valor do terceiro lado do triangulo : '))\n",
        "if t1>t2+t3 or t2>t1+t3 or t3>t1+t2:\n",
        "  print('Esta medidas não forma um triangulo')\n",
        "else:\n",
        "  if t1==t2==t3:\n",
        "    print('Este triangulo é equilatero')\n",
        "  elif t1==t2 or t1==t3 or t2==t3:\n",
        "      print('Este triangulo é isosceles')\n",
        "  else: print('Este triangulo é escaleno')\n",
        ""
      ],
      "metadata": {
        "colab": {
          "base_uri": "https://localhost:8080/"
        },
        "id": "lOX8puWqAStc",
        "outputId": "5fecd27d-3cad-4811-91af-7fda4000f236"
      },
      "execution_count": 10,
      "outputs": [
        {
          "output_type": "stream",
          "name": "stdout",
          "text": [
            "digite o valor do primeio lado do triangulo  : 12\n",
            "digite o valor do segundo lado do triangulo  : 12\n",
            "digite o valor do terceiro lado do triangulo : 5\n",
            "Este triangulo é isosceles\n"
          ]
        }
      ]
    },
    {
      "cell_type": "markdown",
      "source": [
        "\n",
        "2. Determine se um ano é bissexto. Verifique no Google como fazer isso...\n"
      ],
      "metadata": {
        "id": "sQxX8IknABKN"
      }
    },
    {
      "cell_type": "code",
      "source": [
        "import calendar\n",
        "ano=int(input('digite o ano para saber se é bisexto : '))\n",
        "if calendar.isleap(ano): print(\"é bisexto\")\n",
        "else: print('não é bisexto')"
      ],
      "metadata": {
        "colab": {
          "base_uri": "https://localhost:8080/"
        },
        "id": "sOz_kH2-ATH8",
        "outputId": "dba2b01c-063a-4f26-91d7-a5a9fdad7fa2"
      },
      "execution_count": 14,
      "outputs": [
        {
          "output_type": "stream",
          "name": "stdout",
          "text": [
            "digite o ano para saber se é bisexto : 2021\n",
            "não é bisexto\n"
          ]
        }
      ]
    },
    {
      "cell_type": "markdown",
      "source": [
        "3. João Papo Pescador, homem de bem, comprou um microcomputador para controlar o rendimento diário de seu trabalho. Toda vez que ele traz um peso de peixes maior que o estabelecido pelo regulamento de pesca do estado de São Paulo (50 quilos) deve pagar uma multa de R$ 4,00 por quilo excedente. João precisa que você faça um programa que leia a variável peso (peso de peixes) e verifique se há excesso. Se houver, gravar na variável excesso e na variável multa o valor da multa que João deverá pagar. Caso contrário mostrar tais variáveis com o conteúdo ZERO.\n"
      ],
      "metadata": {
        "id": "6NzX4DKPADkN"
      }
    },
    {
      "cell_type": "code",
      "source": [
        "peso= float(input('Digite o peso do peixe : '))\n",
        "if peso<50:print('Peso da pesca conforme regulamento abaixo de 50 kg')\n",
        "else:print(f'Peso acima do regulamento do estado de são paulo. Pagar R$ {(peso-50)*4 :.2f} de multa')"
      ],
      "metadata": {
        "colab": {
          "base_uri": "https://localhost:8080/"
        },
        "id": "qHGUDFTGAFiq",
        "outputId": "ce270c39-f427-4ed7-c55e-d961744a9ea3"
      },
      "execution_count": 16,
      "outputs": [
        {
          "output_type": "stream",
          "name": "stdout",
          "text": [
            "Digite o peso do peixe58\n",
            "Peso acima do regulamento do estado de são paulo. Pagar R$ 32.00 de multa\n"
          ]
        }
      ]
    },
    {
      "cell_type": "markdown",
      "source": [
        "4.\n",
        "Faça um Programa que leia três números e mostre o maior deles.\n"
      ],
      "metadata": {
        "id": "FnB3Oii5AGR9"
      }
    },
    {
      "cell_type": "code",
      "source": [
        "N1=int(input('digite 1 numero'))\n",
        "N2=int(input('digite 2 numero'))\n",
        "N3=int(input('digite 3 numero'))\n",
        "if N1 >N2 and N1>N3: print(f'O numero {N1} é o maior')\n",
        "elif N2 >N3:  print(f'O numero {N2} é o maior')\n",
        "else:  print(f'O numero {N3} é o maior')"
      ],
      "metadata": {
        "colab": {
          "base_uri": "https://localhost:8080/"
        },
        "id": "n86VYS1AAT20",
        "outputId": "6a460e58-c230-4f6a-df47-a43e538a2956"
      },
      "execution_count": 17,
      "outputs": [
        {
          "output_type": "stream",
          "name": "stdout",
          "text": [
            "digite 1 numero10\n",
            "digite 2 numero20\n",
            "digite 3 numero30\n",
            "O numero 30 é o maior\n"
          ]
        }
      ]
    },
    {
      "cell_type": "markdown",
      "source": [
        "5.\n",
        "Faça um Programa que leia três números e mostre o maior e o menor deles.\n"
      ],
      "metadata": {
        "id": "0d0BieEPAIsU"
      }
    },
    {
      "cell_type": "code",
      "source": [
        "N1=int(input('digite 1 numero : '))\n",
        "N2=int(input('digite 2 numero : '))\n",
        "N3=int(input('digite 3 numero : '))\n",
        "if N1 >N2 and N1>N3:\n",
        "  print(f'O numero {N1} é o maior')\n",
        "  if N2 < N3: print(f'O numero {N2} é o menor')\n",
        "  else:  print(f'O numero {N3} é o menor')\n",
        "elif N2 >N3:\n",
        "  print(f'O numero {N2} é o maior')\n",
        "  if N1 < N3: print(f'O numero {N1} é o menor')\n",
        "  else:  print(f'O numero {N3} é o menor')\n",
        "else:\n",
        "  print(f'O numero {N3} é o maior')\n",
        "  if N2 < N1: print(f'O numero {N2} é o menor')\n",
        "  else:  print(f'O numero {N1} é o menor')"
      ],
      "metadata": {
        "colab": {
          "base_uri": "https://localhost:8080/"
        },
        "id": "x6gcsowpAUXc",
        "outputId": "6208ce34-6acf-4f18-ac11-642d7f5281a6"
      },
      "execution_count": 19,
      "outputs": [
        {
          "output_type": "stream",
          "name": "stdout",
          "text": [
            "digite 1 numero10\n",
            "digite 2 numero10\n",
            "digite 3 numero10\n",
            "O numero 10 é o maior\n",
            "O numero 10 é o menor\n"
          ]
        }
      ]
    },
    {
      "cell_type": "markdown",
      "source": [
        "6.\n",
        "Faça um Programa que pergunte quanto você\n",
        "ganha por hora e o número de horas trabalhadas no mês. Calcule\n",
        "e mostre o total do seu salário no referido mês, sabendo\n",
        "-\n",
        "se que são descontados 11% para o Imposto de Renda,\n",
        "8% para o INSS e 5% para o sindicato, faça um programa que nos dê o salário bruto, q\n",
        "uanto pagou ao INSS,\n",
        "quanto pagou ao sindicato\n",
        "e\n",
        "o salário líquido.\n",
        "Observe que\n",
        "Salário Bruto\n",
        "-\n",
        "Descontos = Salário Líquido. Calcule os\n",
        "descontos e o salário líquido, conforme a tabela abaixo:\n",
        "a.\n",
        "+ Salário Bruto : R$\n",
        "b.\n",
        "-\n",
        "IR (11%) : R$\n",
        "c.\n",
        "-\n",
        "INSS (8%) : R$\n",
        "d.\n",
        "-\n",
        "Sindica\n",
        "to ( 5%) : R$\n",
        "e.\n",
        "= Salário Liquido : R$\n"
      ],
      "metadata": {
        "id": "Nq0uzneAAK_E"
      }
    },
    {
      "cell_type": "code",
      "source": [
        "salario = float(input('Digite quanto ganha por hora : '))\n",
        "horas   = float(input('Digite quantas horas trabalhada ao mes : '))\n",
        "print(f'  Salário Bruto   : R$ {salario*horas:.2f}')\n",
        "print(f'  IR (11%)        : R$ {salario*horas*11/100:.2f}')\n",
        "print(f'  INSS (8%)       : R$ {salario*horas*8/100:.2f}')\n",
        "print(f'  Sindicato ( 5%) : R$ {salario*horas/20:.2f}')\n",
        "print(f'  Salário Liquido : R$ {salario*horas-salario*horas*11/100-salario*horas*8/100-salario*horas/20:.2f}')"
      ],
      "metadata": {
        "colab": {
          "base_uri": "https://localhost:8080/"
        },
        "id": "fSJ87NXeAU8s",
        "outputId": "94ce93a2-5289-4219-915c-7f95b5a94d1e"
      },
      "execution_count": 21,
      "outputs": [
        {
          "output_type": "stream",
          "name": "stdout",
          "text": [
            "digite quanto ganha por hora : 120\n",
            "digite quantas horas trabalhada ao mes : 44\n",
            "  Salário Bruto   : R$ 5280.00\n",
            "  IR (11%)        : R$ 580.80\n",
            "  INSS (8%)       : R$ 422.40\n",
            "  Sindicato ( 5%) : R$ 264.00\n",
            "  Salário Liquido : R$ 4012.80\n"
          ]
        }
      ]
    },
    {
      "cell_type": "markdown",
      "source": [
        "7.\n",
        "Faça um programa para uma loja de tintas. O programa deverá pedir o tamanho em metros quadrados da área a\n",
        "ser pintada. Considere que a cobertura da tinta é de 1 litro para cada 3 metros quadrados e que a tinta é vendida\n",
        "em latas de 18 litros, que custam R$ 80,00. Informe ao usuário a quantidades de latas de tinta a serem\n",
        "compradas e o preço total.\n",
        "Obs. : somente são vendidos um número inteiro de latas.\n"
      ],
      "metadata": {
        "id": "2bne6tn8ANkW"
      }
    },
    {
      "cell_type": "code",
      "source": [
        "tamanho = int(input('Digite o tamanho em metros quadrado da area que será pintada : '))\n",
        "print('Vende lata de 18 litros que tem o rendimento de 54 m²')\n",
        "if tamanho%54==0:print(f'Voce ira precisar de {tamanho/54:.0f} latas o total de R$ {tamanho/54*80:.2f}')\n",
        "else:print(f'Voce ira precisar de {tamanho/54+1:.0f} latas o total de R$ {int((tamanho/54+1)*80):.2f}')"
      ],
      "metadata": {
        "colab": {
          "base_uri": "https://localhost:8080/"
        },
        "id": "Qn6nY0T_AVsE",
        "outputId": "f47f2e8a-56f6-4c1a-9f4a-074f5c29295c"
      },
      "execution_count": 24,
      "outputs": [
        {
          "output_type": "stream",
          "name": "stdout",
          "text": [
            "Digite o tamanho em metros quadrado da area que será pintada : 267\n",
            "Vende lata de 18 litros que tem o rendimento de 54 m²\n",
            "Voce ira precisar de 6 latas o total de R$ 475.00\n"
          ]
        }
      ]
    },
    {
      "cell_type": "code",
      "source": [],
      "metadata": {
        "id": "Io5p688dYL62"
      },
      "execution_count": null,
      "outputs": []
    }
  ]
}