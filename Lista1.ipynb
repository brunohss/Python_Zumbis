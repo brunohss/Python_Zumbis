{
  "nbformat": 4,
  "nbformat_minor": 0,
  "metadata": {
    "colab": {
      "provenance": [],
      "authorship_tag": "ABX9TyNa7a0MDSMwBn18d/3lm1qU",
      "include_colab_link": true
    },
    "kernelspec": {
      "name": "python3",
      "display_name": "Python 3"
    },
    "language_info": {
      "name": "python"
    }
  },
  "cells": [
    {
      "cell_type": "markdown",
      "metadata": {
        "id": "view-in-github",
        "colab_type": "text"
      },
      "source": [
        "<a href=\"https://colab.research.google.com/github/brunohss/Python_Zumbis/blob/main/Lista1.ipynb\" target=\"_parent\"><img src=\"https://colab.research.google.com/assets/colab-badge.svg\" alt=\"Open In Colab\"/></a>"
      ]
    },
    {
      "cell_type": "markdown",
      "source": [
        "1) Faça um programa que peça dois números inteiros e imprima a soma desses dois números"
      ],
      "metadata": {
        "id": "klXIRyQ3Xlq2"
      }
    },
    {
      "cell_type": "code",
      "execution_count": null,
      "metadata": {
        "colab": {
          "base_uri": "https://localhost:8080/"
        },
        "id": "lvuDhMWlVi3p",
        "outputId": "630efeee-e40f-4ab7-8092-06c3e0fbd318"
      },
      "outputs": [
        {
          "output_type": "stream",
          "name": "stdout",
          "text": [
            "digite o numero 1 : 3\n",
            "digite o numero 2 : 4\n",
            "7\n"
          ]
        }
      ],
      "source": [
        "N1= int(input('digite o numero 1 : '))\n",
        "N2= int(input('digite o numero 2 : '))\n",
        "print(N1+N2)"
      ]
    },
    {
      "cell_type": "markdown",
      "source": [
        "2) Escreva um programa que leia um valor em metros e o exiba convertido em milímetros"
      ],
      "metadata": {
        "id": "8VP_AV1rXp-0"
      }
    },
    {
      "cell_type": "code",
      "source": [
        "N1= float(input('digite o um valor em metros :'))\n",
        "print(f'O valor digitado {N1} metros = {N1*1000} milimetros')"
      ],
      "metadata": {
        "colab": {
          "base_uri": "https://localhost:8080/"
        },
        "id": "qNTKxe4DYeMV",
        "outputId": "73e24d87-f324-4b01-a145-c7cb9981539e"
      },
      "execution_count": null,
      "outputs": [
        {
          "output_type": "stream",
          "name": "stdout",
          "text": [
            "digite o um valor em metros :3.45\n",
            "O valor digitado 3.45 metros = 3450.0 milimetros\n"
          ]
        }
      ]
    },
    {
      "cell_type": "markdown",
      "source": [
        "3) Escreva um programa que leia a quantidade de dias, horas,minutos e segundos do usuário. Calcule o total em segundos."
      ],
      "metadata": {
        "id": "j2dPqW0JXuud"
      }
    },
    {
      "cell_type": "code",
      "source": [
        "from traitlets.traitlets import Integer\n",
        "dia,horas,minutos,segundo = input('Digite o conforme o modelo : dia/horas/minutos/segundo : ').split('/')\n",
        "dia = int(dia)\n",
        "horas=int(horas)\n",
        "minutos=int(minutos)\n",
        "segundo=int(segundo)\n",
        "print(f'O total de é de {(((dia*24)+horas*60)+minutos*60)+segundo} Segundos')"
      ],
      "metadata": {
        "colab": {
          "base_uri": "https://localhost:8080/"
        },
        "id": "L9QWo94ZZa51",
        "outputId": "1067aac7-9768-4e76-9a0b-b6c7cb4760b0"
      },
      "execution_count": null,
      "outputs": [
        {
          "output_type": "stream",
          "name": "stdout",
          "text": [
            "Digite o conforme o modelo : dia/horas/minutos/segundo4/7/52/4\n",
            "O total de é de 3640 Segundos\n"
          ]
        }
      ]
    },
    {
      "cell_type": "markdown",
      "source": [
        "4) Faça um programa que calcule o aumento de um salário. Ele deve solicitar o valor do salário e a porcentagem do aumento. Exiba o valor do aumento e do novo salário."
      ],
      "metadata": {
        "id": "fJ4L8YiFXyJz"
      }
    },
    {
      "cell_type": "code",
      "source": [
        "salario= float(input('Digite o valor do salario : R$ '))\n",
        "porcentagem = float(input('digite a porcentagem de aumento : '))\n",
        "print(f'Teve um aumento de R$ {salario*porcentagem/100 :.2f} .  Com o aumento o salario ficou R$ {salario + salario*porcentagem/100 :.2f}')"
      ],
      "metadata": {
        "colab": {
          "base_uri": "https://localhost:8080/"
        },
        "id": "kzNuRaOs07gb",
        "outputId": "27a330d3-4680-495c-eba2-585f296e155b"
      },
      "execution_count": null,
      "outputs": [
        {
          "output_type": "stream",
          "name": "stdout",
          "text": [
            "Digite o valor do salario : R$ 4522.14\n",
            "digite a porcentagem de aumento52.22\n",
            "Teve um aumento de R$ 2361.46 .  Com o aumento o salario ficou R$ 6883.60\n"
          ]
        }
      ]
    },
    {
      "cell_type": "markdown",
      "source": [
        "5) Solicite o preço de uma mercadoria e o percentual de desconto. Exiba o valor do desconto e o preço a pagar."
      ],
      "metadata": {
        "id": "3phHZ-16X7vv"
      }
    },
    {
      "cell_type": "code",
      "source": [
        "Preco= float(input('Digite o valor do produto : R$ '))\n",
        "porcentagem = float(input('digite a porcentagem de desconto : '))\n",
        "print(f'Teve um desconto de R$ {salario*porcentagem/100 :.2f} .  Com o desconto o produto ficou R$ {salario - salario*porcentagem/100 :.2f}')"
      ],
      "metadata": {
        "id": "1iTM9E8b3SWa"
      },
      "execution_count": null,
      "outputs": []
    },
    {
      "cell_type": "markdown",
      "source": [
        "6) Calcule o tempo de uma viagem de carro. Pergunte a distância a percorrer e a velocidade médiaesperada para a viagem."
      ],
      "metadata": {
        "id": "T_aiGCVBX_C0"
      }
    },
    {
      "cell_type": "code",
      "source": [
        "distancia= float(input('digite a distancia em km : '))\n",
        "velocidade= float(input('digite a valocidade em km/h : '))\n",
        "print(f'Voce vai demorar : {distancia/velocidade :.2f} horas')"
      ],
      "metadata": {
        "colab": {
          "base_uri": "https://localhost:8080/"
        },
        "id": "0vF5OAWiE-PK",
        "outputId": "54fab4f7-eee2-4eb8-b61b-ee5a45ee7237"
      },
      "execution_count": null,
      "outputs": [
        {
          "output_type": "stream",
          "name": "stdout",
          "text": [
            "digite a distancia em km : 10\n",
            "digite a valocidade em km/h : 10\n",
            "Voce vai demorar : 1.0 \n"
          ]
        }
      ]
    },
    {
      "cell_type": "markdown",
      "source": [
        "7) Converta uma temperatura digitada em Celsius para Fahrenheit.\n",
        "F = 9*C\n",
        "/5 + 32"
      ],
      "metadata": {
        "id": "IXQOxsYgYA80"
      }
    },
    {
      "cell_type": "code",
      "source": [
        "print('Converta uma temperatura digitada em Celsius para Fahrenheit. F = 9*C /5 + 32')\n",
        "C= int(input('Digite o valor em C :'))\n",
        "print(f'O valor em fahrenheit é : {9*C /5 + 32}F')"
      ],
      "metadata": {
        "colab": {
          "base_uri": "https://localhost:8080/"
        },
        "id": "wEP7lHUTPH1s",
        "outputId": "cba971f9-063e-4b1c-80c0-82e840bcf351"
      },
      "execution_count": null,
      "outputs": [
        {
          "output_type": "stream",
          "name": "stdout",
          "text": [
            "Converta uma temperatura digitada em Celsius para Fahrenheit. F = 9*C /5 + 32\n",
            "Digite o valor em C :25\n",
            "O valor em fahrenheit é : 77.0\n"
          ]
        }
      ]
    },
    {
      "cell_type": "markdown",
      "source": [
        "8) Faça agora o contrário, de Fahrenheit para Celsius."
      ],
      "metadata": {
        "id": "D5QjmWpsYHnM"
      }
    },
    {
      "cell_type": "code",
      "source": [
        "print('Converta uma temperatura digitada em Celsius para Fahrenheit. F = 9*C /5 + 32')\n",
        "F= float(input('Digite o valor em F :'))\n",
        "print(f'O valor em Celsius é : {(F- 32)*5/9:.2f} °C')"
      ],
      "metadata": {
        "colab": {
          "base_uri": "https://localhost:8080/"
        },
        "id": "TNB4gZDbPw5K",
        "outputId": "593cd8cd-b3bc-4346-cc90-e7f06374288b"
      },
      "execution_count": null,
      "outputs": [
        {
          "output_type": "stream",
          "name": "stdout",
          "text": [
            "Converta uma temperatura digitada em Celsius para Fahrenheit. F = 9*C /5 + 32\n",
            "Digite o valor em F :11\n",
            "O valor em Celsius é : -11.67 °C\n"
          ]
        }
      ]
    },
    {
      "cell_type": "markdown",
      "source": [
        "9) Escreva um programa que pergunte a quantidade de km percorridos por um carro alugado pelo usuário, assim como a quantidade de dias pelos quais o carro foi alugado. Calcule o preço a pagar,sabendo que o carro custa R$ 60,00 por dia e R$ 0,15 por km rodado."
      ],
      "metadata": {
        "id": "j6rbffqVYJ9j"
      }
    },
    {
      "cell_type": "code",
      "source": [
        "km=float(input('Digite a quantidade de km percorridos pelo carro alugado (em KM) : '))\n",
        "dia=float(input('Digite a quantidade de dias com o carro alugado : '))\n",
        "print(f'O total de pagar é : R$ {dia*60+km*0.15 :.2f} ')"
      ],
      "metadata": {
        "colab": {
          "base_uri": "https://localhost:8080/"
        },
        "id": "Z32TyaNVQtC8",
        "outputId": "5c94dedb-86a2-4893-82ea-b05a5eba806d"
      },
      "execution_count": null,
      "outputs": [
        {
          "output_type": "stream",
          "name": "stdout",
          "text": [
            "Digite a quantidade de km percorridos pelo carro alugado (em KM) : 100\n",
            "Digite a quantidade de dias com o carro alugado : 1\n",
            "O total de pagar é : R$ 75.00 \n"
          ]
        }
      ]
    },
    {
      "cell_type": "markdown",
      "source": [
        "10) Escreva um programa para calcular a redução do tempo de vida de um fumante. Pergunte a quantidade de cigarros fumados por dia e quantos anos ele já fumou. Considere que um fumante perde 10 minutos de vida a cada cigarro, calcule quantos dias de vida um fumante perderá. Exiba o total de dias."
      ],
      "metadata": {
        "id": "3WJk-eu0YM7k"
      }
    },
    {
      "cell_type": "code",
      "source": [
        "dia= int(input('Digite a quantidade de cigarros fumados por dia : '))\n",
        "ano= int(input('Digite a quantidade de anos que já fumou : '))\n",
        "print(f'Voce perdeu : {(dia*10*ano)/1440:.0f} dia da sua vida')"
      ],
      "metadata": {
        "colab": {
          "base_uri": "https://localhost:8080/"
        },
        "id": "cjRPHFolSJx9",
        "outputId": "b7b8d050-aefc-4fa7-f3b7-bdb5fd90c80d"
      },
      "execution_count": null,
      "outputs": [
        {
          "output_type": "stream",
          "name": "stdout",
          "text": [
            "Digite a quantidade de cigarros fumados por dia : 30\n",
            "Digite a quantidade de anos que já fumou : 50\n",
            "Voce perdeu : 10 dia da sua vida\n"
          ]
        }
      ]
    },
    {
      "cell_type": "markdown",
      "source": [
        "11) Sabendo que str( ) converte valores numéricos para string, calcule quantos dígitos há em 2 elevado\n",
        "a um milhão"
      ],
      "metadata": {
        "id": "sUv7bhtCYV1F"
      }
    },
    {
      "cell_type": "code",
      "source": [
        "x=2**10000\n",
        "print(f\"o numero 2 elevado a um milhão tem {len(str(x))} caracteres\")"
      ],
      "metadata": {
        "colab": {
          "base_uri": "https://localhost:8080/"
        },
        "id": "M4E2FxVMUDPe",
        "outputId": "545f90a5-022d-4e2d-a58c-6e7b3e6afa6d"
      },
      "execution_count": null,
      "outputs": [
        {
          "output_type": "stream",
          "name": "stdout",
          "text": [
            "o numero 2 elevado a um milhão tem 3011 caracteres\n"
          ]
        }
      ]
    },
    {
      "cell_type": "code",
      "source": [],
      "metadata": {
        "id": "d4K4JuJsTs0x"
      },
      "execution_count": null,
      "outputs": []
    }
  ]
}